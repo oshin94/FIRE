{
 "cells": [
  {
   "cell_type": "code",
   "execution_count": 83,
   "id": "28e0add5",
   "metadata": {},
   "outputs": [],
   "source": [
    "#inputs in months will be converted to years\n",
    "def inflation(expns, infl, years):\n",
    "    #FV = PV*(1+i)^n\n",
    "    return (expns*(1+(infl/100))**years)\n"
   ]
  },
  {
   "cell_type": "code",
   "execution_count": 115,
   "id": "ff25f89b",
   "metadata": {},
   "outputs": [],
   "source": [
    "def simulate_r(years, mon_inv, fire, ex_inv):\n",
    "    i=4\n",
    "    while (i<25):\n",
    "        r = (1+i/100)\n",
    "        if abs( ex_inv*(r)**years + ((mon_inv * 12) * r * ((1-r**years)/(1-r))) - fire) <=50000:\n",
    "            #print(r, ex_inv*(r)**years + ((mon_inv * 12) * r * ((1-r**years)/(1-r))), abs( ex_inv*(r)**years + ((mon_inv * 12) * r * ((1-r**years)/(1-r))) - fire) )\n",
    "            return r\n",
    "        #else:\n",
    "            #print(r, ex_inv*(r)**years + ((mon_inv * 12) * r * ((1-r**years)/(1-r))), abs( ex_inv*(r)**years + ((mon_inv * 12) * r * ((1-r**years)/(1-r))) - fire) )\n",
    "        i+=0.01"
   ]
  },
  {
   "cell_type": "code",
   "execution_count": 105,
   "id": "871586f8",
   "metadata": {},
   "outputs": [
    {
     "name": "stdout",
     "output_type": "stream",
     "text": [
      "What is current your monthly expense? 20000\n",
      "In how many years, do you want to retire? (in years) 10\n",
      "what do you think the inflation rate will be in the coming years? (a good value is around 6%) 6\n"
     ]
    }
   ],
   "source": [
    "expns = int(input(\"What is current your monthly expense? \"))\n",
    "years = int(input(\"In how many years, do you want to retire? (in years) \"))\n",
    "infl = int(input(\"what do you think the inflation rate will be in the coming years? (a good value is around 6%) \"))"
   ]
  },
  {
   "cell_type": "code",
   "execution_count": null,
   "id": "46cbfebf",
   "metadata": {},
   "outputs": [],
   "source": []
  },
  {
   "cell_type": "code",
   "execution_count": 106,
   "id": "abe90cee",
   "metadata": {},
   "outputs": [
    {
     "name": "stdout",
     "output_type": "stream",
     "text": [
      "In the next, 10 years, you will need Rs 35816.95393085709 to live your life in similar standard\n",
      "In order to stop working for this amount after 10 year, you need a corpus of Rs 10745086.179257127\n"
     ]
    }
   ],
   "source": [
    "print(\"In the next,\",years,\"years, you will need Rs\",(inflation(expns, infl, years)), \"to live your life in similar standard\")\n",
    "print(\"In order to stop working for this amount after\", years, \"year, you need a corpus of Rs\", (inflation(expns, infl, years)*12)/0.04)"
   ]
  },
  {
   "cell_type": "code",
   "execution_count": null,
   "id": "320e6ca2",
   "metadata": {},
   "outputs": [],
   "source": []
  },
  {
   "cell_type": "code",
   "execution_count": 107,
   "id": "5fc4e639",
   "metadata": {},
   "outputs": [
    {
     "name": "stdout",
     "output_type": "stream",
     "text": [
      "How can you accumulate Rs 10745086.179257127 in 10 years?\n",
      "How much money are you willing to pay per month on savings? 25000\n",
      "Any existing investments? if yes type current value.900000\n"
     ]
    }
   ],
   "source": [
    "fire = (inflation(expns, infl, years)*12)/0.04\n",
    "print(\"How can you accumulate Rs\", fire, \"in\", years, \"years?\")\n",
    "mon_inv = int(input(\"How much money are you willing to pay per month on savings? \"))\n",
    "ex_inv = int(input(\"Any existing investments? if yes type current value.\"))"
   ]
  },
  {
   "cell_type": "code",
   "execution_count": 118,
   "id": "37674594",
   "metadata": {},
   "outputs": [
    {
     "name": "stdout",
     "output_type": "stream",
     "text": [
      "Your existing investments as well as your future deposits should grow at the rate of  15.069999999999762 % every year\n"
     ]
    }
   ],
   "source": [
    "print(\"Your existing investments as well as your future deposits should grow at the rate of \", round((simulate_r(years,mon_inv,fire, ex_inv)-1)*100, 2), \"% every year\")"
   ]
  },
  {
   "cell_type": "code",
   "execution_count": null,
   "id": "f3bb5017",
   "metadata": {},
   "outputs": [],
   "source": []
  },
  {
   "cell_type": "code",
   "execution_count": null,
   "id": "faa700fd",
   "metadata": {},
   "outputs": [],
   "source": []
  }
 ],
 "metadata": {
  "kernelspec": {
   "display_name": "Python 3 (ipykernel)",
   "language": "python",
   "name": "python3"
  },
  "language_info": {
   "codemirror_mode": {
    "name": "ipython",
    "version": 3
   },
   "file_extension": ".py",
   "mimetype": "text/x-python",
   "name": "python",
   "nbconvert_exporter": "python",
   "pygments_lexer": "ipython3",
   "version": "3.11.5"
  }
 },
 "nbformat": 4,
 "nbformat_minor": 5
}
