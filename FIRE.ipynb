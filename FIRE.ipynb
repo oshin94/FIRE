{
 "cells": [
  {
   "cell_type": "code",
   "execution_count": 51,
   "id": "df6c8e67",
   "metadata": {},
   "outputs": [],
   "source": [
    "#inputs in months will be converted to years\n",
    "def inflation(expns, infl, years):\n",
    "    #FV = PV*(1+i)^n\n",
    "    return (expns*(1+(infl/100))**years)\n"
   ]
  },
  {
   "cell_type": "code",
   "execution_count": 63,
   "id": "8d6645fd",
   "metadata": {},
   "outputs": [],
   "source": [
    "def simulate_r(years, mon_inv, fire, ex_inv):\n",
    "    i=0.1\n",
    "    while True:\n",
    "        r = (1+i/100)\n",
    "        \n",
    "        diff = ex_inv*(r)**years + ((mon_inv * 12) * r * ((1-r**years)/(1-r))) - fire\n",
    "        #print(i, diff)\n",
    "        \n",
    "        if diff > 0:\n",
    "            #print(r, ex_inv*(r)**years + ((mon_inv * 12) * r * ((1-r**years)/(1-r))), abs( ex_inv*(r)**years + ((mon_inv * 12) * r * ((1-r**years)/(1-r))) - fire) )\n",
    "            return r\n",
    "        #else:\n",
    "            #print(r, ex_inv*(r)**years + ((mon_inv * 12) * r * ((1-r**years)/(1-r))), abs( ex_inv*(r)**years + ((mon_inv * 12) * r * ((1-r**years)/(1-r))) - fire) )\n",
    "        i+=0.0001\n",
    "    return None"
   ]
  },
  {
   "cell_type": "code",
   "execution_count": 59,
   "id": "38d3ea61",
   "metadata": {},
   "outputs": [
    {
     "name": "stdout",
     "output_type": "stream",
     "text": [
      "What is current your monthly expense? 200000\n",
      "In how many years, do you want to retire? (in years) 15\n",
      "what do you think the inflation rate will be in the coming years? (a good value is around 6%) 6\n"
     ]
    }
   ],
   "source": [
    "expns = int(input(\"What is current your monthly expense? \"))\n",
    "years = int(input(\"In how many years, do you want to retire? (in years) \"))\n",
    "infl = int(input(\"what do you think the inflation rate will be in the coming years? (a good value is around 6%) \"))"
   ]
  },
  {
   "cell_type": "code",
   "execution_count": null,
   "id": "b34feab8",
   "metadata": {},
   "outputs": [],
   "source": []
  },
  {
   "cell_type": "code",
   "execution_count": 60,
   "id": "94011e8a",
   "metadata": {},
   "outputs": [
    {
     "name": "stdout",
     "output_type": "stream",
     "text": [
      "In the next, 15 years, you will need Rs 479311.6386199383 to live your life in similar standard\n",
      "In order to stop working for this amount after 15 year, you need a corpus of Rs 143793491.58598146\n"
     ]
    }
   ],
   "source": [
    "print(\"In the next,\",years,\"years, you will need Rs\",(inflation(expns, infl, years)), \"to live your life in similar standard\")\n",
    "print(\"In order to stop working for this amount after\", years, \"year, you need a corpus of Rs\", (inflation(expns, infl, years)*12)/0.04)"
   ]
  },
  {
   "cell_type": "code",
   "execution_count": null,
   "id": "79170596",
   "metadata": {},
   "outputs": [],
   "source": []
  },
  {
   "cell_type": "code",
   "execution_count": 61,
   "id": "1042a686",
   "metadata": {},
   "outputs": [
    {
     "name": "stdout",
     "output_type": "stream",
     "text": [
      "How can you accumulate Rs 143793491.58598146 in 15 years?\n",
      "How much money are you willing to pay per month on savings? 5000\n",
      "Any existing investments? if yes type current value.100000\n"
     ]
    }
   ],
   "source": [
    "fire = (inflation(expns, infl, years)*12)/0.04\n",
    "print(\"How can you accumulate Rs\", fire, \"in\", years, \"years?\")\n",
    "mon_inv = int(input(\"How much money are you willing to pay per month on savings? \"))\n",
    "ex_inv = int(input(\"Any existing investments? if yes type current value.\"))"
   ]
  },
  {
   "cell_type": "code",
   "execution_count": 64,
   "id": "2b46c85a",
   "metadata": {},
   "outputs": [
    {
     "name": "stdout",
     "output_type": "stream",
     "text": [
      "1.5176330000059484\n"
     ]
    }
   ],
   "source": [
    "print(simulate_r(years,mon_inv,fire, ex_inv))"
   ]
  },
  {
   "cell_type": "code",
   "execution_count": 65,
   "id": "cca96c3a",
   "metadata": {},
   "outputs": [
    {
     "name": "stdout",
     "output_type": "stream",
     "text": [
      "Your existing investments as well as your future deposits should grow at the rate of  51.76 % every year\n"
     ]
    }
   ],
   "source": [
    "print(\"Your existing investments as well as your future deposits should grow at the rate of \", str(round((simulate_r(years,mon_inv,fire, ex_inv)-1)*100, 2)), \"% every year\")"
   ]
  },
  {
   "cell_type": "code",
   "execution_count": null,
   "id": "eb3bef47",
   "metadata": {},
   "outputs": [],
   "source": []
  },
  {
   "cell_type": "code",
   "execution_count": null,
   "id": "f33c16fa",
   "metadata": {},
   "outputs": [],
   "source": []
  }
 ],
 "metadata": {
  "kernelspec": {
   "display_name": "Python 3 (ipykernel)",
   "language": "python",
   "name": "python3"
  },
  "language_info": {
   "codemirror_mode": {
    "name": "ipython",
    "version": 3
   },
   "file_extension": ".py",
   "mimetype": "text/x-python",
   "name": "python",
   "nbconvert_exporter": "python",
   "pygments_lexer": "ipython3",
   "version": "3.11.5"
  }
 },
 "nbformat": 4,
 "nbformat_minor": 5
}
